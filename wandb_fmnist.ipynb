{
  "nbformat": 4,
  "nbformat_minor": 0,
  "metadata": {
    "colab": {
      "name": "wandb_fmnist.ipynb",
      "provenance": [],
      "collapsed_sections": []
    },
    "kernelspec": {
      "name": "python3",
      "display_name": "Python 3"
    },
    "language_info": {
      "name": "python"
    },
    "accelerator": "GPU",
    "widgets": {
      "application/vnd.jupyter.widget-state+json": {
        "f81b646299c946578dc7a226b4b22be6": {
          "model_module": "@jupyter-widgets/controls",
          "model_name": "VBoxModel",
          "model_module_version": "1.5.0",
          "state": {
            "_view_name": "VBoxView",
            "_dom_classes": [],
            "_model_name": "VBoxModel",
            "_view_module": "@jupyter-widgets/controls",
            "_model_module_version": "1.5.0",
            "_view_count": null,
            "_view_module_version": "1.5.0",
            "box_style": "",
            "layout": "IPY_MODEL_c69f2cbed3504815a9a839f4d3075bed",
            "_model_module": "@jupyter-widgets/controls",
            "children": [
              "IPY_MODEL_48740a506ee04eeb97d8a38ab7626cb4",
              "IPY_MODEL_2b3d876f2ef74c3ca5a73e81346a8a5a"
            ]
          }
        },
        "c69f2cbed3504815a9a839f4d3075bed": {
          "model_module": "@jupyter-widgets/base",
          "model_name": "LayoutModel",
          "model_module_version": "1.2.0",
          "state": {
            "_view_name": "LayoutView",
            "grid_template_rows": null,
            "right": null,
            "justify_content": null,
            "_view_module": "@jupyter-widgets/base",
            "overflow": null,
            "_model_module_version": "1.2.0",
            "_view_count": null,
            "flex_flow": null,
            "width": null,
            "min_width": null,
            "border": null,
            "align_items": null,
            "bottom": null,
            "_model_module": "@jupyter-widgets/base",
            "top": null,
            "grid_column": null,
            "overflow_y": null,
            "overflow_x": null,
            "grid_auto_flow": null,
            "grid_area": null,
            "grid_template_columns": null,
            "flex": null,
            "_model_name": "LayoutModel",
            "justify_items": null,
            "grid_row": null,
            "max_height": null,
            "align_content": null,
            "visibility": null,
            "align_self": null,
            "height": null,
            "min_height": null,
            "padding": null,
            "grid_auto_rows": null,
            "grid_gap": null,
            "max_width": null,
            "order": null,
            "_view_module_version": "1.2.0",
            "grid_template_areas": null,
            "object_position": null,
            "object_fit": null,
            "grid_auto_columns": null,
            "margin": null,
            "display": null,
            "left": null
          }
        },
        "48740a506ee04eeb97d8a38ab7626cb4": {
          "model_module": "@jupyter-widgets/controls",
          "model_name": "LabelModel",
          "model_module_version": "1.5.0",
          "state": {
            "_view_name": "LabelView",
            "style": "IPY_MODEL_ac6d427b5ad94f85ae9ff948a69cf725",
            "_dom_classes": [],
            "description": "",
            "_model_name": "LabelModel",
            "placeholder": "​",
            "_view_module": "@jupyter-widgets/controls",
            "_model_module_version": "1.5.0",
            "value": " 0.01MB of 0.01MB uploaded (0.00MB deduped)\r",
            "_view_count": null,
            "_view_module_version": "1.5.0",
            "description_tooltip": null,
            "_model_module": "@jupyter-widgets/controls",
            "layout": "IPY_MODEL_dd2fa79cc09a4f89bad313572d10d00c"
          }
        },
        "2b3d876f2ef74c3ca5a73e81346a8a5a": {
          "model_module": "@jupyter-widgets/controls",
          "model_name": "FloatProgressModel",
          "model_module_version": "1.5.0",
          "state": {
            "_view_name": "ProgressView",
            "style": "IPY_MODEL_bcd176d22248473baaf232cd07047b7d",
            "_dom_classes": [],
            "description": "",
            "_model_name": "FloatProgressModel",
            "bar_style": "",
            "max": 1,
            "_view_module": "@jupyter-widgets/controls",
            "_model_module_version": "1.5.0",
            "value": 1,
            "_view_count": null,
            "_view_module_version": "1.5.0",
            "orientation": "horizontal",
            "min": 0,
            "description_tooltip": null,
            "_model_module": "@jupyter-widgets/controls",
            "layout": "IPY_MODEL_54a178efd5f44701b63069dc1bc97ce3"
          }
        },
        "ac6d427b5ad94f85ae9ff948a69cf725": {
          "model_module": "@jupyter-widgets/controls",
          "model_name": "DescriptionStyleModel",
          "model_module_version": "1.5.0",
          "state": {
            "_view_name": "StyleView",
            "_model_name": "DescriptionStyleModel",
            "description_width": "",
            "_view_module": "@jupyter-widgets/base",
            "_model_module_version": "1.5.0",
            "_view_count": null,
            "_view_module_version": "1.2.0",
            "_model_module": "@jupyter-widgets/controls"
          }
        },
        "dd2fa79cc09a4f89bad313572d10d00c": {
          "model_module": "@jupyter-widgets/base",
          "model_name": "LayoutModel",
          "model_module_version": "1.2.0",
          "state": {
            "_view_name": "LayoutView",
            "grid_template_rows": null,
            "right": null,
            "justify_content": null,
            "_view_module": "@jupyter-widgets/base",
            "overflow": null,
            "_model_module_version": "1.2.0",
            "_view_count": null,
            "flex_flow": null,
            "width": null,
            "min_width": null,
            "border": null,
            "align_items": null,
            "bottom": null,
            "_model_module": "@jupyter-widgets/base",
            "top": null,
            "grid_column": null,
            "overflow_y": null,
            "overflow_x": null,
            "grid_auto_flow": null,
            "grid_area": null,
            "grid_template_columns": null,
            "flex": null,
            "_model_name": "LayoutModel",
            "justify_items": null,
            "grid_row": null,
            "max_height": null,
            "align_content": null,
            "visibility": null,
            "align_self": null,
            "height": null,
            "min_height": null,
            "padding": null,
            "grid_auto_rows": null,
            "grid_gap": null,
            "max_width": null,
            "order": null,
            "_view_module_version": "1.2.0",
            "grid_template_areas": null,
            "object_position": null,
            "object_fit": null,
            "grid_auto_columns": null,
            "margin": null,
            "display": null,
            "left": null
          }
        },
        "bcd176d22248473baaf232cd07047b7d": {
          "model_module": "@jupyter-widgets/controls",
          "model_name": "ProgressStyleModel",
          "model_module_version": "1.5.0",
          "state": {
            "_view_name": "StyleView",
            "_model_name": "ProgressStyleModel",
            "description_width": "",
            "_view_module": "@jupyter-widgets/base",
            "_model_module_version": "1.5.0",
            "_view_count": null,
            "_view_module_version": "1.2.0",
            "bar_color": null,
            "_model_module": "@jupyter-widgets/controls"
          }
        },
        "54a178efd5f44701b63069dc1bc97ce3": {
          "model_module": "@jupyter-widgets/base",
          "model_name": "LayoutModel",
          "model_module_version": "1.2.0",
          "state": {
            "_view_name": "LayoutView",
            "grid_template_rows": null,
            "right": null,
            "justify_content": null,
            "_view_module": "@jupyter-widgets/base",
            "overflow": null,
            "_model_module_version": "1.2.0",
            "_view_count": null,
            "flex_flow": null,
            "width": null,
            "min_width": null,
            "border": null,
            "align_items": null,
            "bottom": null,
            "_model_module": "@jupyter-widgets/base",
            "top": null,
            "grid_column": null,
            "overflow_y": null,
            "overflow_x": null,
            "grid_auto_flow": null,
            "grid_area": null,
            "grid_template_columns": null,
            "flex": null,
            "_model_name": "LayoutModel",
            "justify_items": null,
            "grid_row": null,
            "max_height": null,
            "align_content": null,
            "visibility": null,
            "align_self": null,
            "height": null,
            "min_height": null,
            "padding": null,
            "grid_auto_rows": null,
            "grid_gap": null,
            "max_width": null,
            "order": null,
            "_view_module_version": "1.2.0",
            "grid_template_areas": null,
            "object_position": null,
            "object_fit": null,
            "grid_auto_columns": null,
            "margin": null,
            "display": null,
            "left": null
          }
        }
      }
    }
  },
  "cells": [
    {
      "cell_type": "code",
      "metadata": {
        "id": "gL_shb29LGKg"
      },
      "source": [
        "import torch\n",
        "import torch.nn as nn\n",
        "import torchvision\n",
        "from torch.utils.data import Dataset, DataLoader\n",
        "from torchvision import transforms\n",
        "from tqdm import tqdm\n",
        "\n",
        "import numpy as np\n",
        "import wandb"
      ],
      "execution_count": 2,
      "outputs": []
    },
    {
      "cell_type": "code",
      "metadata": {
        "id": "HlO7M-r8V7jY"
      },
      "source": [
        "class CNN(nn.Module):\n",
        "  def __init__(self, in_features = 1, out_features = [16, 32], dropout = 0.1):\n",
        "    super(CNN, self).__init__()\n",
        "\n",
        "    self.model = nn.Sequential(\n",
        "        nn.Conv2d(in_channels=in_features, out_channels=out_features[0], kernel_size=5, stride = 1, padding = 0),\n",
        "        nn.ReLU(),\n",
        "        nn.MaxPool2d(kernel_size=2),\n",
        "        nn.Conv2d(in_channels=out_features[0], out_channels=out_features[1], kernel_size=5, stride = 1, padding = 0),\n",
        "        nn.ReLU(),\n",
        "        nn.MaxPool2d(kernel_size=2),\n",
        "        nn.Dropout(p = dropout)\n",
        "    )\n",
        "\n",
        "    self.fc = nn.Linear(out_features[1] * 4*4, 10)\n",
        "\n",
        "  def forward(self, x):\n",
        "    output = self.model(x)\n",
        "    output = output.view(output.size(0), -1)\n",
        "    return self.fc(output)"
      ],
      "execution_count": 3,
      "outputs": []
    },
    {
      "cell_type": "code",
      "metadata": {
        "colab": {
          "base_uri": "https://localhost:8080/",
          "height": 174,
          "referenced_widgets": [
            "f81b646299c946578dc7a226b4b22be6",
            "c69f2cbed3504815a9a839f4d3075bed",
            "48740a506ee04eeb97d8a38ab7626cb4",
            "2b3d876f2ef74c3ca5a73e81346a8a5a",
            "ac6d427b5ad94f85ae9ff948a69cf725",
            "dd2fa79cc09a4f89bad313572d10d00c",
            "bcd176d22248473baaf232cd07047b7d",
            "54a178efd5f44701b63069dc1bc97ce3"
          ]
        },
        "id": "VnF4Lc2JLm6m",
        "outputId": "ed6e067c-f920-4811-ff4d-f6c51b3b9d2e"
      },
      "source": [
        "hyperparameter_defaults = dict(\n",
        "    dropout = 0.5,\n",
        "    channels_one = 16,\n",
        "    channels_two = 32,\n",
        "    batch_size = 100,\n",
        "    learning_rate = 0.001,\n",
        "    epochs = 10,\n",
        "    )\n",
        "\n",
        "####################wandb Initialize#################################\n",
        "wandb.init(config = hyperparameter_defaults, project = \"cnn-f_mnist\")\n",
        "config = wandb.config\n",
        "#####################################################################\n",
        "\n",
        "train_transform = transforms.Compose([\n",
        "      transforms.ToTensor(),\n",
        "      transforms.RandomHorizontalFlip(0.5),\n",
        "      transforms.Normalize((0.5,), (0.5,)),\n",
        "  ])\n",
        "\n",
        "test_transform = transforms.Compose([\n",
        "  transforms.ToTensor(),\n",
        "  transforms.Normalize((0.5,), (0.5,)),\n",
        "])\n",
        "\n",
        "train_datasets = torchvision.datasets.FashionMNIST(root ='./', train=True, download=False, transform=train_transform)\n",
        "test_datasets = torchvision.datasets.FashionMNIST(root ='./', train=False, download=False, transform=test_transform)\n",
        "\n",
        "train_loader = torch.utils.data.DataLoader(dataset=train_datasets,\n",
        "                                               batch_size=config.batch_size,\n",
        "                                               shuffle=True)\n",
        "\n",
        "test_loader = torch.utils.data.DataLoader(dataset=test_datasets,\n",
        "                                              batch_size=config.batch_size,\n",
        "                                              shuffle=False)\n",
        "\n",
        "classes = [ \"T-shirt or top\",\"Trouser\",\"Pullover\",\"Dress\",\"Coat\",\"Sandal\",\"Shirt\",\"Sneaker\",\"Bag\",\"Boot\"]"
      ],
      "execution_count": 5,
      "outputs": [
        {
          "output_type": "display_data",
          "data": {
            "text/html": [
              "Finishing last run (ID:14s46riy) before initializing another..."
            ],
            "text/plain": [
              "<IPython.core.display.HTML object>"
            ]
          },
          "metadata": {}
        },
        {
          "output_type": "display_data",
          "data": {
            "text/html": [
              "<br/>Waiting for W&B process to finish, PID 167... <strong style=\"color:green\">(success).</strong>"
            ],
            "text/plain": [
              "<IPython.core.display.HTML object>"
            ]
          },
          "metadata": {}
        },
        {
          "output_type": "display_data",
          "data": {
            "application/vnd.jupyter.widget-view+json": {
              "model_id": "f81b646299c946578dc7a226b4b22be6",
              "version_minor": 0,
              "version_major": 2
            },
            "text/plain": [
              "VBox(children=(Label(value=' 0.00MB of 0.00MB uploaded (0.00MB deduped)\\r'), FloatProgress(value=1.0, max=1.0)…"
            ]
          },
          "metadata": {}
        },
        {
          "output_type": "display_data",
          "data": {
            "text/html": [
              "<style>\n",
              "    table.wandb td:nth-child(1) { padding: 0 10px; text-align: right }\n",
              "    .wandb-row { display: flex; flex-direction: row; flex-wrap: wrap; width: 100% }\n",
              "    .wandb-col { display: flex; flex-direction: column; flex-basis: 100%; flex: 1; padding: 10px; }\n",
              "    </style>\n",
              "<div class=\"wandb-row\"><div class=\"wandb-col\">\n",
              "</div><div class=\"wandb-col\">\n",
              "</div></div>\n",
              "Synced 5 W&B file(s), 0 media file(s), 0 artifact file(s) and 0 other file(s)\n",
              "<br/>Synced <strong style=\"color:#cdcd00\">decent-music-1</strong>: <a href=\"https://wandb.ai/chowk/cnn-f_mnist/runs/14s46riy\" target=\"_blank\">https://wandb.ai/chowk/cnn-f_mnist/runs/14s46riy</a><br/>\n",
              "Find logs at: <code>./wandb/run-20211011_132053-14s46riy/logs</code><br/>\n"
            ],
            "text/plain": [
              "<IPython.core.display.HTML object>"
            ]
          },
          "metadata": {}
        },
        {
          "output_type": "display_data",
          "data": {
            "text/html": [
              "Successfully finished last run (ID:14s46riy). Initializing new run:<br/>"
            ],
            "text/plain": [
              "<IPython.core.display.HTML object>"
            ]
          },
          "metadata": {}
        },
        {
          "output_type": "display_data",
          "data": {
            "text/html": [
              "\n",
              "                    Syncing run <strong><a href=\"https://wandb.ai/chowk/cnn-f_mnist/runs/1pq20ec5\" target=\"_blank\">giddy-sea-2</a></strong> to <a href=\"https://wandb.ai/chowk/cnn-f_mnist\" target=\"_blank\">Weights & Biases</a> (<a href=\"https://docs.wandb.com/integrations/jupyter.html\" target=\"_blank\">docs</a>).<br/>\n",
              "\n",
              "                "
            ],
            "text/plain": [
              "<IPython.core.display.HTML object>"
            ]
          },
          "metadata": {}
        }
      ]
    },
    {
      "cell_type": "code",
      "metadata": {
        "colab": {
          "base_uri": "https://localhost:8080/"
        },
        "id": "Z9-zn_FrMGRW",
        "outputId": "3df41657-c50d-4014-afce-c4dcc203437d"
      },
      "source": [
        "device = \"cuda\" if torch.cuda.is_available() else \"cpu\"\n",
        "model = CNN(in_features=1, out_features=[config.channels_one, config.channels_two], dropout=config.dropout).to(device)\n",
        "criterion = nn.CrossEntropyLoss()\n",
        "optimizer = torch.optim.Adam(model.parameters(), lr=config.learning_rate)\n",
        "\n",
        "def train(model, train_loader,criterion, optimizer, epoch, device):\n",
        "  model.train()\n",
        "  running_loss = 0.0\n",
        "  dataset_size = 0\n",
        "\n",
        "  pbar = tqdm(enumerate(train_loader), total=len(train_loader))\n",
        "  for idx, (imgs, labels) in pbar:\n",
        "    imgs = imgs.to(device).float()\n",
        "    labels = labels.to(device).long()\n",
        "    batch_size = imgs.size(0)\n",
        "\n",
        "    optimizer.zero_grad()\n",
        "    pred = model(imgs)\n",
        "    loss = criterion(pred, labels)\n",
        "    loss.backward()\n",
        "    optimizer.step()\n",
        "\n",
        "    running_loss += (loss.item() * batch_size)\n",
        "    dataset_size += batch_size\n",
        "    epoch_loss = running_loss / dataset_size\n",
        "    pbar.set_postfix(Epoch=epoch, Train_Loss=epoch_loss)\n",
        "\n",
        "  return epoch_loss\n",
        "\n",
        "def eval(model, test_loader, criterion, optimizer, epoch, device):\n",
        "  model.eval()\n",
        "  running_loss = 0.0\n",
        "  dataset_size = 0\n",
        "  correct = 0.0\n",
        "  \n",
        "  image_preds_all = []\n",
        "  image_targets_all = []\n",
        "\n",
        "  pbar = tqdm(enumerate(test_loader), total=len(test_loader))\n",
        "  for idx, (imgs, labels) in pbar:\n",
        "    imgs = imgs.to(device).float()\n",
        "    labels = labels.to(device).long()\n",
        "    batch_size = imgs.size(0)\n",
        "\n",
        "    pred = model(imgs)\n",
        "    image_preds_all += [torch.argmax(pred, 1).detach().cpu().numpy()]\n",
        "    image_targets_all += [labels.detach().cpu().numpy()]\n",
        "    loss = criterion(pred, labels)\n",
        "    \n",
        "    running_loss += (loss.item() * batch_size)\n",
        "    dataset_size += batch_size\n",
        "    epoch_loss = running_loss / dataset_size\n",
        "    pbar.set_postfix(Epoch=epoch, valid_Loss=epoch_loss)\n",
        "\n",
        "  image_preds_all = np.concatenate(image_preds_all)\n",
        "  image_targets_all = np.concatenate(image_targets_all)\n",
        "  valid_Acc = (image_preds_all==image_targets_all).mean()\n",
        "  \n",
        "  return epoch_loss, valid_Acc\n",
        "\n",
        "def main(model, train_loader,test_loader ,optimizer, device, epochs):\n",
        "  wandb.watch(model, log = \"all\", log_freq = 100)\n",
        "\n",
        "  for epoch in range(1, epochs+1):\n",
        "    train_epoch_loss = train(model, train_loader, criterion, optimizer, device = device, epoch = epoch)\n",
        "    with torch.no_grad():\n",
        "      val_epoch_loss, val_acc = eval(model, test_loader, criterion, optimizer, epoch=epoch, device=device)\n",
        "\n",
        "    wandb.log({\"Train Loss\": train_epoch_loss})\n",
        "    wandb.log({\"Valid Loss\": val_epoch_loss})\n",
        "    wandb.log({\"Valid Acc\": val_acc})\n",
        "\n",
        "main(model, train_loader=train_loader, test_loader =test_loader, optimizer=optimizer, device = device, epochs=config.epochs)\n"
      ],
      "execution_count": 6,
      "outputs": [
        {
          "output_type": "stream",
          "name": "stderr",
          "text": [
            "\r  0%|          | 0/600 [00:00<?, ?it/s]/usr/local/lib/python3.7/dist-packages/torch/nn/functional.py:718: UserWarning: Named tensors and all their associated APIs are an experimental feature and subject to change. Please do not use them for anything important until they are released as stable. (Triggered internally at  /pytorch/c10/core/TensorImpl.h:1156.)\n",
            "  return torch.max_pool2d(input, kernel_size, stride, padding, dilation, ceil_mode)\n",
            "100%|██████████| 600/600 [00:23<00:00, 26.04it/s, Epoch=1, Train_Loss=0.719]\n",
            "100%|██████████| 100/100 [00:02<00:00, 33.48it/s, Epoch=1, valid_Loss=0.472]\n",
            "100%|██████████| 600/600 [00:22<00:00, 26.86it/s, Epoch=2, Train_Loss=0.482]\n",
            "100%|██████████| 100/100 [00:02<00:00, 33.96it/s, Epoch=2, valid_Loss=0.415]\n",
            "100%|██████████| 600/600 [00:22<00:00, 26.47it/s, Epoch=3, Train_Loss=0.435]\n",
            "100%|██████████| 100/100 [00:02<00:00, 34.25it/s, Epoch=3, valid_Loss=0.368]\n",
            "100%|██████████| 600/600 [00:22<00:00, 26.69it/s, Epoch=4, Train_Loss=0.409]\n",
            "100%|██████████| 100/100 [00:02<00:00, 33.76it/s, Epoch=4, valid_Loss=0.369]\n",
            "100%|██████████| 600/600 [00:22<00:00, 26.79it/s, Epoch=5, Train_Loss=0.388]\n",
            "100%|██████████| 100/100 [00:02<00:00, 35.03it/s, Epoch=5, valid_Loss=0.34]\n",
            "100%|██████████| 600/600 [00:22<00:00, 26.70it/s, Epoch=6, Train_Loss=0.377]\n",
            "100%|██████████| 100/100 [00:03<00:00, 33.30it/s, Epoch=6, valid_Loss=0.339]\n",
            "100%|██████████| 600/600 [00:22<00:00, 26.76it/s, Epoch=7, Train_Loss=0.369]\n",
            "100%|██████████| 100/100 [00:02<00:00, 33.90it/s, Epoch=7, valid_Loss=0.325]\n",
            "100%|██████████| 600/600 [00:22<00:00, 26.62it/s, Epoch=8, Train_Loss=0.36]\n",
            "100%|██████████| 100/100 [00:03<00:00, 33.08it/s, Epoch=8, valid_Loss=0.325]\n",
            "100%|██████████| 600/600 [00:22<00:00, 26.54it/s, Epoch=9, Train_Loss=0.354]\n",
            "100%|██████████| 100/100 [00:02<00:00, 34.44it/s, Epoch=9, valid_Loss=0.317]\n",
            "100%|██████████| 600/600 [00:22<00:00, 26.38it/s, Epoch=10, Train_Loss=0.348]\n",
            "100%|██████████| 100/100 [00:03<00:00, 33.11it/s, Epoch=10, valid_Loss=0.313]\n"
          ]
        }
      ]
    },
    {
      "cell_type": "code",
      "metadata": {
        "id": "2d8Y-cRZMNmu"
      },
      "source": [
        ""
      ],
      "execution_count": 40,
      "outputs": []
    },
    {
      "cell_type": "code",
      "metadata": {
        "id": "zC5YQ7fFXzHC"
      },
      "source": [
        ""
      ],
      "execution_count": null,
      "outputs": []
    }
  ]
}